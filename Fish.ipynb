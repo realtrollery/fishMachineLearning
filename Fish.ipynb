{
  "cells": [
    {
      "cell_type": "markdown",
      "metadata": {
        "id": "view-in-github",
        "colab_type": "text"
      },
      "source": [
        "<a href=\"https://colab.research.google.com/github/realtrollery/fishMachineLearning/blob/main/Fish.ipynb\" target=\"_parent\"><img src=\"https://colab.research.google.com/assets/colab-badge.svg\" alt=\"Open In Colab\"/></a>"
      ]
    },
    {
      "cell_type": "code",
      "source": [
        "import csv"
      ],
      "metadata": {
        "id": "1wyYlYCVxbch"
      },
      "execution_count": 2,
      "outputs": []
    },
    {
      "cell_type": "code",
      "source": [
        "file = open('Fish.csv')\n",
        "type(file)\n",
        "csvreader = csv.reader(file)\n",
        "header = []\n",
        "header = next(csvreader)\n",
        "header\n",
        "rows = []\n",
        "for row in csvreader:\n",
        "        rows.append(row)\n",
        "rows"
      ],
      "metadata": {
        "id": "CWs5ZXl9zkE7",
        "outputId": "8a3d5d1a-9dec-4b2b-fb2d-a85376b3fa58",
        "colab": {
          "base_uri": "https://localhost:8080/"
        }
      },
      "execution_count": 3,
      "outputs": [
        {
          "output_type": "execute_result",
          "data": {
            "text/plain": [
              "[['Bream', '242', '23.2', '25.4', '30', '11.52', '4.02'],\n",
              " ['Bream', '290', '24', '26.3', '31.2', '12.48', '4.3056'],\n",
              " ['Bream', '340', '23.9', '26.5', '31.1', '12.3778', '4.6961'],\n",
              " ['Bream', '363', '26.3', '29', '33.5', '12.73', '4.4555'],\n",
              " ['Bream', '430', '26.5', '29', '34', '12.444', '5.134'],\n",
              " ['Bream', '450', '26.8', '29.7', '34.7', '13.6024', '4.9274'],\n",
              " ['Bream', '500', '26.8', '29.7', '34.5', '14.1795', '5.2785'],\n",
              " ['Bream', '390', '27.6', '30', '35', '12.67', '4.69'],\n",
              " ['Bream', '450', '27.6', '30', '35.1', '14.0049', '4.8438'],\n",
              " ['Bream', '500', '28.5', '30.7', '36.2', '14.2266', '4.9594'],\n",
              " ['Bream', '475', '28.4', '31', '36.2', '14.2628', '5.1042'],\n",
              " ['Bream', '500', '28.7', '31', '36.2', '14.3714', '4.8146'],\n",
              " ['Bream', '500', '29.1', '31.5', '36.4', '13.7592', '4.368'],\n",
              " ['Bream', '340', '29.5', '32', '37.3', '13.9129', '5.0728'],\n",
              " ['Bream', '600', '29.4', '32', '37.2', '14.9544', '5.1708'],\n",
              " ['Bream', '600', '29.4', '32', '37.2', '15.438', '5.58'],\n",
              " ['Bream', '700', '30.4', '33', '38.3', '14.8604', '5.2854'],\n",
              " ['Bream', '700', '30.4', '33', '38.5', '14.938', '5.1975'],\n",
              " ['Bream', '610', '30.9', '33.5', '38.6', '15.633', '5.1338'],\n",
              " ['Bream', '650', '31', '33.5', '38.7', '14.4738', '5.7276'],\n",
              " ['Bream', '575', '31.3', '34', '39.5', '15.1285', '5.5695'],\n",
              " ['Bream', '685', '31.4', '34', '39.2', '15.9936', '5.3704'],\n",
              " ['Bream', '620', '31.5', '34.5', '39.7', '15.5227', '5.2801'],\n",
              " ['Bream', '680', '31.8', '35', '40.6', '15.4686', '6.1306'],\n",
              " ['Bream', '700', '31.9', '35', '40.5', '16.2405', '5.589'],\n",
              " ['Bream', '725', '31.8', '35', '40.9', '16.36', '6.0532'],\n",
              " ['Bream', '720', '32', '35', '40.6', '16.3618', '6.09'],\n",
              " ['Bream', '714', '32.7', '36', '41.5', '16.517', '5.8515'],\n",
              " ['Bream', '850', '32.8', '36', '41.6', '16.8896', '6.1984'],\n",
              " ['Bream', '1000', '33.5', '37', '42.6', '18.957', '6.603'],\n",
              " ['Bream', '920', '35', '38.5', '44.1', '18.0369', '6.3063'],\n",
              " ['Bream', '955', '35', '38.5', '44', '18.084', '6.292'],\n",
              " ['Bream', '925', '36.2', '39.5', '45.3', '18.7542', '6.7497'],\n",
              " ['Bream', '975', '37.4', '41', '45.9', '18.6354', '6.7473'],\n",
              " ['Bream', '950', '38', '41', '46.5', '17.6235', '6.3705'],\n",
              " ['Roach', '40', '12.9', '14.1', '16.2', '4.1472', '2.268'],\n",
              " ['Roach', '69', '16.5', '18.2', '20.3', '5.2983', '2.8217'],\n",
              " ['Roach', '78', '17.5', '18.8', '21.2', '5.5756', '2.9044'],\n",
              " ['Roach', '87', '18.2', '19.8', '22.2', '5.6166', '3.1746'],\n",
              " ['Roach', '120', '18.6', '20', '22.2', '6.216', '3.5742'],\n",
              " ['Roach', '0', '19', '20.5', '22.8', '6.4752', '3.3516'],\n",
              " ['Roach', '110', '19.1', '20.8', '23.1', '6.1677', '3.3957'],\n",
              " ['Roach', '120', '19.4', '21', '23.7', '6.1146', '3.2943'],\n",
              " ['Roach', '150', '20.4', '22', '24.7', '5.8045', '3.7544'],\n",
              " ['Roach', '145', '20.5', '22', '24.3', '6.6339', '3.5478'],\n",
              " ['Roach', '160', '20.5', '22.5', '25.3', '7.0334', '3.8203'],\n",
              " ['Roach', '140', '21', '22.5', '25', '6.55', '3.325'],\n",
              " ['Roach', '160', '21.1', '22.5', '25', '6.4', '3.8'],\n",
              " ['Roach', '169', '22', '24', '27.2', '7.5344', '3.8352'],\n",
              " ['Roach', '161', '22', '23.4', '26.7', '6.9153', '3.6312'],\n",
              " ['Roach', '200', '22.1', '23.5', '26.8', '7.3968', '4.1272'],\n",
              " ['Roach', '180', '23.6', '25.2', '27.9', '7.0866', '3.906'],\n",
              " ['Roach', '290', '24', '26', '29.2', '8.8768', '4.4968'],\n",
              " ['Roach', '272', '25', '27', '30.6', '8.568', '4.7736'],\n",
              " ['Roach', '390', '29.5', '31.7', '35', '9.485', '5.355'],\n",
              " ['Whitefish', '270', '23.6', '26', '28.7', '8.3804', '4.2476'],\n",
              " ['Whitefish', '270', '24.1', '26.5', '29.3', '8.1454', '4.2485'],\n",
              " ['Whitefish', '306', '25.6', '28', '30.8', '8.778', '4.6816'],\n",
              " ['Whitefish', '540', '28.5', '31', '34', '10.744', '6.562'],\n",
              " ['Whitefish', '800', '33.7', '36.4', '39.6', '11.7612', '6.5736'],\n",
              " ['Whitefish', '1000', '37.3', '40', '43.5', '12.354', '6.525'],\n",
              " ['Parkki', '55', '13.5', '14.7', '16.5', '6.8475', '2.3265'],\n",
              " ['Parkki', '60', '14.3', '15.5', '17.4', '6.5772', '2.3142'],\n",
              " ['Parkki', '90', '16.3', '17.7', '19.8', '7.4052', '2.673'],\n",
              " ['Parkki', '120', '17.5', '19', '21.3', '8.3922', '2.9181'],\n",
              " ['Parkki', '150', '18.4', '20', '22.4', '8.8928', '3.2928'],\n",
              " ['Parkki', '140', '19', '20.7', '23.2', '8.5376', '3.2944'],\n",
              " ['Parkki', '170', '19', '20.7', '23.2', '9.396', '3.4104'],\n",
              " ['Parkki', '145', '19.8', '21.5', '24.1', '9.7364', '3.1571'],\n",
              " ['Parkki', '200', '21.2', '23', '25.8', '10.3458', '3.6636'],\n",
              " ['Parkki', '273', '23', '25', '28', '11.088', '4.144'],\n",
              " ['Parkki', '300', '24', '26', '29', '11.368', '4.234'],\n",
              " ['Perch', '5.9', '7.5', '8.4', '8.8', '2.112', '1.408'],\n",
              " ['Perch', '32', '12.5', '13.7', '14.7', '3.528', '1.9992'],\n",
              " ['Perch', '40', '13.8', '15', '16', '3.824', '2.432'],\n",
              " ['Perch', '51.5', '15', '16.2', '17.2', '4.5924', '2.6316'],\n",
              " ['Perch', '70', '15.7', '17.4', '18.5', '4.588', '2.9415'],\n",
              " ['Perch', '100', '16.2', '18', '19.2', '5.2224', '3.3216'],\n",
              " ['Perch', '78', '16.8', '18.7', '19.4', '5.1992', '3.1234'],\n",
              " ['Perch', '80', '17.2', '19', '20.2', '5.6358', '3.0502'],\n",
              " ['Perch', '85', '17.8', '19.6', '20.8', '5.1376', '3.0368'],\n",
              " ['Perch', '85', '18.2', '20', '21', '5.082', '2.772'],\n",
              " ['Perch', '110', '19', '21', '22.5', '5.6925', '3.555'],\n",
              " ['Perch', '115', '19', '21', '22.5', '5.9175', '3.3075'],\n",
              " ['Perch', '125', '19', '21', '22.5', '5.6925', '3.6675'],\n",
              " ['Perch', '130', '19.3', '21.3', '22.8', '6.384', '3.534'],\n",
              " ['Perch', '120', '20', '22', '23.5', '6.11', '3.4075'],\n",
              " ['Perch', '120', '20', '22', '23.5', '5.64', '3.525'],\n",
              " ['Perch', '130', '20', '22', '23.5', '6.11', '3.525'],\n",
              " ['Perch', '135', '20', '22', '23.5', '5.875', '3.525'],\n",
              " ['Perch', '110', '20', '22', '23.5', '5.5225', '3.995'],\n",
              " ['Perch', '130', '20.5', '22.5', '24', '5.856', '3.624'],\n",
              " ['Perch', '150', '20.5', '22.5', '24', '6.792', '3.624'],\n",
              " ['Perch', '145', '20.7', '22.7', '24.2', '5.9532', '3.63'],\n",
              " ['Perch', '150', '21', '23', '24.5', '5.2185', '3.626'],\n",
              " ['Perch', '170', '21.5', '23.5', '25', '6.275', '3.725'],\n",
              " ['Perch', '225', '22', '24', '25.5', '7.293', '3.723'],\n",
              " ['Perch', '145', '22', '24', '25.5', '6.375', '3.825'],\n",
              " ['Perch', '188', '22.6', '24.6', '26.2', '6.7334', '4.1658'],\n",
              " ['Perch', '180', '23', '25', '26.5', '6.4395', '3.6835'],\n",
              " ['Perch', '197', '23.5', '25.6', '27', '6.561', '4.239'],\n",
              " ['Perch', '218', '25', '26.5', '28', '7.168', '4.144'],\n",
              " ['Perch', '300', '25.2', '27.3', '28.7', '8.323', '5.1373'],\n",
              " ['Perch', '260', '25.4', '27.5', '28.9', '7.1672', '4.335'],\n",
              " ['Perch', '265', '25.4', '27.5', '28.9', '7.0516', '4.335'],\n",
              " ['Perch', '250', '25.4', '27.5', '28.9', '7.2828', '4.5662'],\n",
              " ['Perch', '250', '25.9', '28', '29.4', '7.8204', '4.2042'],\n",
              " ['Perch', '300', '26.9', '28.7', '30.1', '7.5852', '4.6354'],\n",
              " ['Perch', '320', '27.8', '30', '31.6', '7.6156', '4.7716'],\n",
              " ['Perch', '514', '30.5', '32.8', '34', '10.03', '6.018'],\n",
              " ['Perch', '556', '32', '34.5', '36.5', '10.2565', '6.3875'],\n",
              " ['Perch', '840', '32.5', '35', '37.3', '11.4884', '7.7957'],\n",
              " ['Perch', '685', '34', '36.5', '39', '10.881', '6.864'],\n",
              " ['Perch', '700', '34', '36', '38.3', '10.6091', '6.7408'],\n",
              " ['Perch', '700', '34.5', '37', '39.4', '10.835', '6.2646'],\n",
              " ['Perch', '690', '34.6', '37', '39.3', '10.5717', '6.3666'],\n",
              " ['Perch', '900', '36.5', '39', '41.4', '11.1366', '7.4934'],\n",
              " ['Perch', '650', '36.5', '39', '41.4', '11.1366', '6.003'],\n",
              " ['Perch', '820', '36.6', '39', '41.3', '12.4313', '7.3514'],\n",
              " ['Perch', '850', '36.9', '40', '42.3', '11.9286', '7.1064'],\n",
              " ['Perch', '900', '37', '40', '42.5', '11.73', '7.225'],\n",
              " ['Perch', '1015', '37', '40', '42.4', '12.3808', '7.4624'],\n",
              " ['Perch', '820', '37.1', '40', '42.5', '11.135', '6.63'],\n",
              " ['Perch', '1100', '39', '42', '44.6', '12.8002', '6.8684'],\n",
              " ['Perch', '1000', '39.8', '43', '45.2', '11.9328', '7.2772'],\n",
              " ['Perch', '1100', '40.1', '43', '45.5', '12.5125', '7.4165'],\n",
              " ['Perch', '1000', '40.2', '43.5', '46', '12.604', '8.142'],\n",
              " ['Perch', '1000', '41.1', '44', '46.6', '12.4888', '7.5958'],\n",
              " ['Pike', '200', '30', '32.3', '34.8', '5.568', '3.3756'],\n",
              " ['Pike', '300', '31.7', '34', '37.8', '5.7078', '4.158'],\n",
              " ['Pike', '300', '32.7', '35', '38.8', '5.9364', '4.3844'],\n",
              " ['Pike', '300', '34.8', '37.3', '39.8', '6.2884', '4.0198'],\n",
              " ['Pike', '430', '35.5', '38', '40.5', '7.29', '4.5765'],\n",
              " ['Pike', '345', '36', '38.5', '41', '6.396', '3.977'],\n",
              " ['Pike', '456', '40', '42.5', '45.5', '7.28', '4.3225'],\n",
              " ['Pike', '510', '40', '42.5', '45.5', '6.825', '4.459'],\n",
              " ['Pike', '540', '40.1', '43', '45.8', '7.786', '5.1296'],\n",
              " ['Pike', '500', '42', '45', '48', '6.96', '4.896'],\n",
              " ['Pike', '567', '43.2', '46', '48.7', '7.792', '4.87'],\n",
              " ['Pike', '770', '44.8', '48', '51.2', '7.68', '5.376'],\n",
              " ['Pike', '950', '48.3', '51.7', '55.1', '8.9262', '6.1712'],\n",
              " ['Pike', '1250', '52', '56', '59.7', '10.6863', '6.9849'],\n",
              " ['Pike', '1600', '56', '60', '64', '9.6', '6.144'],\n",
              " ['Pike', '1550', '56', '60', '64', '9.6', '6.144'],\n",
              " ['Pike', '1650', '59', '63.4', '68', '10.812', '7.48'],\n",
              " ['Smelt', '6.7', '9.3', '9.8', '10.8', '1.7388', '1.0476'],\n",
              " ['Smelt', '7.5', '10', '10.5', '11.6', '1.972', '1.16'],\n",
              " ['Smelt', '7', '10.1', '10.6', '11.6', '1.7284', '1.1484'],\n",
              " ['Smelt', '9.7', '10.4', '11', '12', '2.196', '1.38'],\n",
              " ['Smelt', '9.8', '10.7', '11.2', '12.4', '2.0832', '1.2772'],\n",
              " ['Smelt', '8.7', '10.8', '11.3', '12.6', '1.9782', '1.2852'],\n",
              " ['Smelt', '10', '11.3', '11.8', '13.1', '2.2139', '1.2838'],\n",
              " ['Smelt', '9.9', '11.3', '11.8', '13.1', '2.2139', '1.1659'],\n",
              " ['Smelt', '9.8', '11.4', '12', '13.2', '2.2044', '1.1484'],\n",
              " ['Smelt', '12.2', '11.5', '12.2', '13.4', '2.0904', '1.3936'],\n",
              " ['Smelt', '13.4', '11.7', '12.4', '13.5', '2.43', '1.269'],\n",
              " ['Smelt', '12.2', '12.1', '13', '13.8', '2.277', '1.2558'],\n",
              " ['Smelt', '19.7', '13.2', '14.3', '15.2', '2.8728', '2.0672'],\n",
              " ['Smelt', '19.9', '13.8', '15', '16.2', '2.9322', '1.8792']]"
            ]
          },
          "metadata": {},
          "execution_count": 3
        }
      ]
    },
    {
      "cell_type": "code",
      "source": [
        "bream_length = []\n",
        "bream_weight = []\n",
        "for i in range(35):\n",
        "  bream_length.append(float(rows[i][2]))\n",
        "  bream_weight.append(float(rows[i][1]))\n",
        "smelt_length = []\n",
        "smelt_weight = []\n",
        "for i in range(145, 159):\n",
        "  smelt_length.append(float(rows[i][2]))\n",
        "  smelt_weight.append(float(rows[i][1]))"
      ],
      "metadata": {
        "id": "h7heWIMTCPxX"
      },
      "execution_count": 5,
      "outputs": []
    },
    {
      "cell_type": "code",
      "source": [
        "import matplotlib.pyplot as plt\n",
        "plt.scatter(bream_length, bream_weight)\n",
        "plt.scatter(smelt_length, smelt_weight)\n",
        "plt.xlabel(\"Length\")\n",
        "plt.ylabel(\"Weight\")\n",
        "plt.show()"
      ],
      "metadata": {
        "colab": {
          "base_uri": "https://localhost:8080/",
          "height": 279
        },
        "id": "kt-T3TP4DIau",
        "outputId": "774b87c2-c8f8-4724-d981-cbd7a5308b97"
      },
      "execution_count": 7,
      "outputs": [
        {
          "output_type": "display_data",
          "data": {
            "text/plain": [
              "<Figure size 432x288 with 1 Axes>"
            ],
            "image/png": "[encoded data removed]"
          },
          "metadata": {
            "needs_background": "light"
          }
        }
      ]
    },
    {
      "cell_type": "code",
      "source": [
        "length = bream_length + smelt_length\n",
        "weight = bream_weight + smelt_weight\n",
        "fish_data = [[l, w ] for l,w in zip(length, weight)]\n",
        "fish_target = [1] * 35 + [0] * 14\n",
        "fish_data"
      ],
      "metadata": {
        "colab": {
          "base_uri": "https://localhost:8080/"
        },
        "id": "dWt_kdnBDVTL",
        "outputId": "65e64170-4535-47f9-f764-bb6c972db0b4"
      },
      "execution_count": 10,
      "outputs": [
        {
          "output_type": "execute_result",
          "data": {
            "text/plain": [
              "[[23.2, 242.0],\n",
              " [24.0, 290.0],\n",
              " [23.9, 340.0],\n",
              " [26.3, 363.0],\n",
              " [26.5, 430.0],\n",
              " [26.8, 450.0],\n",
              " [26.8, 500.0],\n",
              " [27.6, 390.0],\n",
              " [27.6, 450.0],\n",
              " [28.5, 500.0],\n",
              " [28.4, 475.0],\n",
              " [28.7, 500.0],\n",
              " [29.1, 500.0],\n",
              " [29.5, 340.0],\n",
              " [29.4, 600.0],\n",
              " [29.4, 600.0],\n",
              " [30.4, 700.0],\n",
              " [30.4, 700.0],\n",
              " [30.9, 610.0],\n",
              " [31.0, 650.0],\n",
              " [31.3, 575.0],\n",
              " [31.4, 685.0],\n",
              " [31.5, 620.0],\n",
              " [31.8, 680.0],\n",
              " [31.9, 700.0],\n",
              " [31.8, 725.0],\n",
              " [32.0, 720.0],\n",
              " [32.7, 714.0],\n",
              " [32.8, 850.0],\n",
              " [33.5, 1000.0],\n",
              " [35.0, 920.0],\n",
              " [35.0, 955.0],\n",
              " [36.2, 925.0],\n",
              " [37.4, 975.0],\n",
              " [38.0, 950.0],\n",
              " [9.3, 6.7],\n",
              " [10.0, 7.5],\n",
              " [10.1, 7.0],\n",
              " [10.4, 9.7],\n",
              " [10.7, 9.8],\n",
              " [10.8, 8.7],\n",
              " [11.3, 10.0],\n",
              " [11.3, 9.9],\n",
              " [11.4, 9.8],\n",
              " [11.5, 12.2],\n",
              " [11.7, 13.4],\n",
              " [12.1, 12.2],\n",
              " [13.2, 19.7],\n",
              " [13.8, 19.9]]"
            ]
          },
          "metadata": {},
          "execution_count": 10
        }
      ]
    },
    {
      "cell_type": "code",
      "source": [
        "from sklearn.neighbors import KNeighborsClassifier\n",
        "import sklearn\n",
        "model = sklearn.neighbors.KNeighborsClassifier"
      ],
      "metadata": {
        "id": "_4J4Z0d3Ds6z"
      },
      "execution_count": 12,
      "outputs": []
    },
    {
      "cell_type": "code",
      "source": [
        "kn = KNeighborsClassifier()\n",
        "kn.fit(fish_data, fish_target)"
      ],
      "metadata": {
        "colab": {
          "base_uri": "https://localhost:8080/"
        },
        "id": "2vzIjwcoE5Ul",
        "outputId": "e86d04fe-ad17-46c4-92a9-bfe6827362df"
      },
      "execution_count": 13,
      "outputs": [
        {
          "output_type": "execute_result",
          "data": {
            "text/plain": [
              "KNeighborsClassifier()"
            ]
          },
          "metadata": {},
          "execution_count": 13
        }
      ]
    },
    {
      "cell_type": "code",
      "source": [
        "kn.score(fish_data, fish_target)"
      ],
      "metadata": {
        "colab": {
          "base_uri": "https://localhost:8080/"
        },
        "id": "QFN527UWFsIM",
        "outputId": "6ba51c58-a609-43bd-be37-bcc7bbdb3b8c"
      },
      "execution_count": 14,
      "outputs": [
        {
          "output_type": "execute_result",
          "data": {
            "text/plain": [
              "1.0"
            ]
          },
          "metadata": {},
          "execution_count": 14
        }
      ]
    },
    {
      "cell_type": "code",
      "source": [
        "kn.predict([[30,600]])"
      ],
      "metadata": {
        "colab": {
          "base_uri": "https://localhost:8080/"
        },
        "id": "vh02JKWSJlg2",
        "outputId": "c18451c9-deac-475b-9357-ff9f6be4794c"
      },
      "execution_count": 15,
      "outputs": [
        {
          "output_type": "execute_result",
          "data": {
            "text/plain": [
              "array([1])"
            ]
          },
          "metadata": {},
          "execution_count": 15
        }
      ]
    }
  ],
  "metadata": {
    "colab": {
      "collapsed_sections": [],
      "name": "Fish",
      "provenance": [],
      "include_colab_link": true
    },
    "kernelspec": {
      "display_name": "Python 3",
      "name": "python3"
    }
  },
  "nbformat": 4,
  "nbformat_minor": 0
}